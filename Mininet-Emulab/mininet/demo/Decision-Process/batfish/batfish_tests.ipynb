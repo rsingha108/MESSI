{
 "cells": [
  {
   "cell_type": "code",
   "execution_count": 3,
   "metadata": {},
   "outputs": [],
   "source": [
    "import pandas as pd\n",
    "from pandas.io.formats.style import Styler\n",
    "from pybatfish.client.session import Session\n",
    "from pybatfish.datamodel import *\n",
    "from pybatfish.datamodel.answer import *\n",
    "from pybatfish.datamodel.flow import *\n",
    "from pybatfish.util import get_html\n",
    "\n",
    "pd.set_option(\"display.max_colwidth\", None)\n",
    "pd.set_option(\"display.max_columns\", None)\n",
    "# Prevent rendering text between '$' as MathJax expressions\n",
    "pd.set_option(\"display.html.use_mathjax\", False)\n",
    "\n",
    "# UUID for CSS styles used by pandas styler.\n",
    "# Keeps our notebook HTML deterministic when displaying dataframes\n",
    "_STYLE_UUID = \"pybfstyle\"\n",
    "\n",
    "bf = Session(host=\"localhost\")"
   ]
  },
  {
   "cell_type": "code",
   "execution_count": 52,
   "metadata": {},
   "outputs": [],
   "source": [
    "class MyStyler(Styler):\n",
    "    \"\"\"A custom styler for displaying DataFrames in HTML\"\"\"\n",
    "\n",
    "    def __repr__(self):\n",
    "        return repr(self.data)\n",
    "\n",
    "\n",
    "def show(df):\n",
    "    \"\"\"\n",
    "    Displays a dataframe as HTML table.\n",
    "\n",
    "    Replaces newlines and double-spaces in the input with HTML markup, and\n",
    "    left-aligns the text.\n",
    "    \"\"\"\n",
    "    if isinstance(df, TableAnswer):\n",
    "        df = df.frame()\n",
    "\n",
    "    # workaround for Pandas bug in Python 2.7 for empty frames\n",
    "    if not isinstance(df, pd.DataFrame) or df.size == 0:\n",
    "        display(df)\n",
    "        return\n",
    "    display(\n",
    "        MyStyler(df)\n",
    "        .set_uuid(_STYLE_UUID)\n",
    "        .format(get_html)\n",
    "        .set_properties(**{\"text-align\": \"left\", \"vertical-align\": \"top\"})\n",
    "    )"
   ]
  },
  {
   "cell_type": "code",
   "execution_count": 63,
   "metadata": {},
   "outputs": [
    {
     "data": {
      "text/plain": [
       "'test_snapshot'"
      ]
     },
     "execution_count": 63,
     "metadata": {},
     "output_type": "execute_result"
    }
   ],
   "source": [
    "NETWORK_NAME = 'example'\n",
    "SNAPSHOT_NAME = 'test_snapshot'\n",
    "\n",
    "SNAPSHOT_PATH = 'test_snapshot'\n",
    "\n",
    "bf.set_network(NETWORK_NAME)\n",
    "bf.init_snapshot(SNAPSHOT_PATH, name=SNAPSHOT_NAME, overwrite=True)"
   ]
  },
  {
   "cell_type": "code",
   "execution_count": 65,
   "metadata": {},
   "outputs": [
    {
     "data": {
      "text/html": [
       "<div>\n",
       "<style scoped>\n",
       "    .dataframe tbody tr th:only-of-type {\n",
       "        vertical-align: middle;\n",
       "    }\n",
       "\n",
       "    .dataframe tbody tr th {\n",
       "        vertical-align: top;\n",
       "    }\n",
       "\n",
       "    .dataframe thead th {\n",
       "        text-align: right;\n",
       "    }\n",
       "</style>\n",
       "<table border=\"1\" class=\"dataframe tex2jax_ignore\">\n",
       "  <thead>\n",
       "    <tr style=\"text-align: right;\">\n",
       "      <th></th>\n",
       "      <th>Nodes</th>\n",
       "      <th>Source_Lines</th>\n",
       "      <th>Type</th>\n",
       "      <th>Details</th>\n",
       "      <th>Line_Text</th>\n",
       "      <th>Parser_Context</th>\n",
       "    </tr>\n",
       "  </thead>\n",
       "  <tbody>\n",
       "  </tbody>\n",
       "</table>\n",
       "</div>"
      ],
      "text/plain": [
       "Empty DataFrame\n",
       "Columns: [Nodes, Source_Lines, Type, Details, Line_Text, Parser_Context]\n",
       "Index: []"
      ]
     },
     "execution_count": 65,
     "metadata": {},
     "output_type": "execute_result"
    }
   ],
   "source": [
    "bf.q.initIssues().answer().frame()"
   ]
  },
  {
   "cell_type": "code",
   "execution_count": 58,
   "metadata": {},
   "outputs": [
    {
     "data": {
      "text/html": [
       "<style  type=\"text/css\" >\n",
       "#T_pybfstylerow0_col0,#T_pybfstylerow0_col1,#T_pybfstylerow0_col2,#T_pybfstylerow0_col3,#T_pybfstylerow0_col4,#T_pybfstylerow0_col5,#T_pybfstylerow0_col6{\n",
       "            text-align:  left;\n",
       "            vertical-align:  top;\n",
       "        }</style><table id=\"T_pybfstyle\"  class=\"tex2jax_ignore\"><thead>    <tr>        <th class=\"blank level0\" ></th>        <th class=\"col_heading level0 col0\" >Node</th>        <th class=\"col_heading level0 col1\" >Policy_Name</th>        <th class=\"col_heading level0 col2\" >Input_Route</th>        <th class=\"col_heading level0 col3\" >Action</th>        <th class=\"col_heading level0 col4\" >Output_Route</th>        <th class=\"col_heading level0 col5\" >Difference</th>        <th class=\"col_heading level0 col6\" >Trace</th>    </tr></thead><tbody>\n",
       "                <tr>\n",
       "                        <th id=\"T_pybfstylelevel0_row0\" class=\"row_heading level0 row0\" >0</th>\n",
       "                        <td id=\"T_pybfstylerow0_col0\" class=\"data row0 col0\" >routera</td>\n",
       "                        <td id=\"T_pybfstylerow0_col1\" class=\"data row0 col1\" >POLICY</td>\n",
       "                        <td id=\"T_pybfstylerow0_col2\" class=\"data row0 col2\" >Network: 100.0.0.0/24<br>AS Path: []<br>Communities: []<br>Local Preference: 0<br>Metric: 0<br>Next Hop IP: None<br>Originator IP: 100.0.0.3<br>Origin Type: incomplete<br>Protocol: bgp<br>Source Protocol: None<br>Tag: 0<br>Weight: 0</td>\n",
       "                        <td id=\"T_pybfstylerow0_col3\" class=\"data row0 col3\" >PERMIT</td>\n",
       "                        <td id=\"T_pybfstylerow0_col4\" class=\"data row0 col4\" >Network: 100.0.0.0/24<br>AS Path: [{'asns': [300], 'confederation': False}, {'asns': [400], 'confederation': False}]<br>Communities: []<br>Local Preference: 200<br>Metric: 50<br>Next Hop IP: None<br>Originator IP: 100.0.0.3<br>Origin Type: incomplete<br>Protocol: bgp<br>Source Protocol: None<br>Tag: 0<br>Weight: 0</td>\n",
       "                        <td id=\"T_pybfstylerow0_col5\" class=\"data row0 col5\" >AS Path: [] --> [300, 400]<br>Local Preference: 0 --> 200<br>Metric: 0 --> 50</td>\n",
       "                        <td id=\"T_pybfstylerow0_col6\" class=\"data row0 col6\" ><ul><li>Matched route-map POLICY clause 10</li></ul></td>\n",
       "            </tr>\n",
       "    </tbody></table>"
      ],
      "text/plain": [
       "      Node Policy_Name  \\\n",
       "0  routera      POLICY   \n",
       "\n",
       "                                                                                                                                                                                                         Input_Route  \\\n",
       "0  BgpRoute(network='100.0.0.0/24', originatorIp='100.0.0.3', originType='incomplete', protocol='bgp', asPath=[], communities=[], localPreference=0, metric=0, nextHopIp=None, sourceProtocol=None, tag=0, weight=0)   \n",
       "\n",
       "   Action  \\\n",
       "0  PERMIT   \n",
       "\n",
       "                                                                                                                                                                                                                                                                                           Output_Route  \\\n",
       "0  BgpRoute(network='100.0.0.0/24', originatorIp='100.0.0.3', originType='incomplete', protocol='bgp', asPath=[{'asns': [300], 'confederation': False}, {'asns': [400], 'confederation': False}], communities=[], localPreference=200, metric=50, nextHopIp=None, sourceProtocol=None, tag=0, weight=0)   \n",
       "\n",
       "                                                                                                                                                                                                                              Difference  \\\n",
       "0  BgpRouteDiffs(diffs=[BgpRouteDiff(fieldName='asPath', oldValue='[]', newValue='[300, 400]'), BgpRouteDiff(fieldName='localPreference', oldValue='0', newValue='200'), BgpRouteDiff(fieldName='metric', oldValue='0', newValue='50')])   \n",
       "\n",
       "                                  Trace  \n",
       "0  - Matched route-map POLICY clause 10  "
      ]
     },
     "metadata": {},
     "output_type": "display_data"
    }
   ],
   "source": [
    "inRoute1 = BgpRoute(network=\"100.0.0.0/24\",\n",
    "                    originatorIp=\"100.0.0.3\",\n",
    "                    originType=\"incomplete\",\n",
    "                    protocol=\"bgp\")\n",
    "\n",
    "result = bf.q.testRoutePolicies(\n",
    "    policies = \"POLICY\",\n",
    "    direction = \"in\",\n",
    "    inputRoutes = [inRoute1]).answer().frame()\n",
    "\n",
    "show(result)"
   ]
  },
  {
   "cell_type": "code",
   "execution_count": 66,
   "metadata": {},
   "outputs": [
    {
     "data": {
      "text/html": [
       "<style  type=\"text/css\" >\n",
       "#T_pybfstylerow0_col0,#T_pybfstylerow0_col1,#T_pybfstylerow0_col2,#T_pybfstylerow0_col3,#T_pybfstylerow0_col4,#T_pybfstylerow0_col5,#T_pybfstylerow0_col6,#T_pybfstylerow0_col7,#T_pybfstylerow0_col8,#T_pybfstylerow0_col9,#T_pybfstylerow0_col10,#T_pybfstylerow0_col11,#T_pybfstylerow0_col12,#T_pybfstylerow0_col13,#T_pybfstylerow0_col14,#T_pybfstylerow0_col15,#T_pybfstylerow0_col16,#T_pybfstylerow0_col17,#T_pybfstylerow0_col18,#T_pybfstylerow0_col19,#T_pybfstylerow0_col20{\n",
       "            text-align:  left;\n",
       "            vertical-align:  top;\n",
       "        }</style><table id=\"T_pybfstyle\"  class=\"tex2jax_ignore\"><thead>    <tr>        <th class=\"blank level0\" ></th>        <th class=\"col_heading level0 col0\" >Node</th>        <th class=\"col_heading level0 col1\" >VRF</th>        <th class=\"col_heading level0 col2\" >Network</th>        <th class=\"col_heading level0 col3\" >Status</th>        <th class=\"col_heading level0 col4\" >Next_Hop</th>        <th class=\"col_heading level0 col5\" >Next_Hop_IP</th>        <th class=\"col_heading level0 col6\" >Next_Hop_Interface</th>        <th class=\"col_heading level0 col7\" >Protocol</th>        <th class=\"col_heading level0 col8\" >AS_Path</th>        <th class=\"col_heading level0 col9\" >Metric</th>        <th class=\"col_heading level0 col10\" >Local_Pref</th>        <th class=\"col_heading level0 col11\" >Communities</th>        <th class=\"col_heading level0 col12\" >Origin_Protocol</th>        <th class=\"col_heading level0 col13\" >Origin_Type</th>        <th class=\"col_heading level0 col14\" >Originator_Id</th>        <th class=\"col_heading level0 col15\" >Received_From_IP</th>        <th class=\"col_heading level0 col16\" >Received_Path_Id</th>        <th class=\"col_heading level0 col17\" >Cluster_List</th>        <th class=\"col_heading level0 col18\" >Tunnel_Encapsulation_Attribute</th>        <th class=\"col_heading level0 col19\" >Weight</th>        <th class=\"col_heading level0 col20\" >Tag</th>    </tr></thead><tbody>\n",
       "                <tr>\n",
       "                        <th id=\"T_pybfstylelevel0_row0\" class=\"row_heading level0 row0\" >0</th>\n",
       "                        <td id=\"T_pybfstylerow0_col0\" class=\"data row0 col0\" >routerc</td>\n",
       "                        <td id=\"T_pybfstylerow0_col1\" class=\"data row0 col1\" >default</td>\n",
       "                        <td id=\"T_pybfstylerow0_col2\" class=\"data row0 col2\" >100.0.0.0/24</td>\n",
       "                        <td id=\"T_pybfstylerow0_col3\" class=\"data row0 col3\" >BEST</td>\n",
       "                        <td id=\"T_pybfstylerow0_col4\" class=\"data row0 col4\" >ip 1.0.0.1</td>\n",
       "                        <td id=\"T_pybfstylerow0_col5\" class=\"data row0 col5\" >1.0.0.1</td>\n",
       "                        <td id=\"T_pybfstylerow0_col6\" class=\"data row0 col6\" >dynamic</td>\n",
       "                        <td id=\"T_pybfstylerow0_col7\" class=\"data row0 col7\" >bgp</td>\n",
       "                        <td id=\"T_pybfstylerow0_col8\" class=\"data row0 col8\" >10 300 400</td>\n",
       "                        <td id=\"T_pybfstylerow0_col9\" class=\"data row0 col9\" >50</td>\n",
       "                        <td id=\"T_pybfstylerow0_col10\" class=\"data row0 col10\" >200</td>\n",
       "                        <td id=\"T_pybfstylerow0_col11\" class=\"data row0 col11\" ></td>\n",
       "                        <td id=\"T_pybfstylerow0_col12\" class=\"data row0 col12\" >bgp</td>\n",
       "                        <td id=\"T_pybfstylerow0_col13\" class=\"data row0 col13\" >igp</td>\n",
       "                        <td id=\"T_pybfstylerow0_col14\" class=\"data row0 col14\" >10.0.0.1</td>\n",
       "                        <td id=\"T_pybfstylerow0_col15\" class=\"data row0 col15\" >1.0.0.1</td>\n",
       "                        <td id=\"T_pybfstylerow0_col16\" class=\"data row0 col16\" >None</td>\n",
       "                        <td id=\"T_pybfstylerow0_col17\" class=\"data row0 col17\" >None</td>\n",
       "                        <td id=\"T_pybfstylerow0_col18\" class=\"data row0 col18\" >None</td>\n",
       "                        <td id=\"T_pybfstylerow0_col19\" class=\"data row0 col19\" >0</td>\n",
       "                        <td id=\"T_pybfstylerow0_col20\" class=\"data row0 col20\" >None</td>\n",
       "            </tr>\n",
       "    </tbody></table>"
      ],
      "text/plain": [
       "      Node      VRF       Network    Status    Next_Hop Next_Hop_IP  \\\n",
       "0  routerc  default  100.0.0.0/24  ['BEST']  ip 1.0.0.1     1.0.0.1   \n",
       "\n",
       "  Next_Hop_Interface Protocol     AS_Path Metric Local_Pref Communities  \\\n",
       "0            dynamic      bgp  10 300 400     50        200          []   \n",
       "\n",
       "  Origin_Protocol Origin_Type Originator_Id Received_From_IP Received_Path_Id  \\\n",
       "0             bgp         igp      10.0.0.1          1.0.0.1             None   \n",
       "\n",
       "  Cluster_List Tunnel_Encapsulation_Attribute Weight   Tag  \n",
       "0         None                           None      0  None  "
      ]
     },
     "metadata": {},
     "output_type": "display_data"
    }
   ],
   "source": [
    "result = bf.q.bgpRib(nodes ='RouterC').answer().frame()\n",
    "show(result)"
   ]
  },
  {
   "cell_type": "code",
   "execution_count": null,
   "metadata": {},
   "outputs": [],
   "source": []
  }
 ],
 "metadata": {
  "kernelspec": {
   "display_name": "Python 3",
   "language": "python",
   "name": "python3"
  },
  "language_info": {
   "codemirror_mode": {
    "name": "ipython",
    "version": 3
   },
   "file_extension": ".py",
   "mimetype": "text/x-python",
   "name": "python",
   "nbconvert_exporter": "python",
   "pygments_lexer": "ipython3",
   "version": "3.8.10"
  }
 },
 "nbformat": 4,
 "nbformat_minor": 2
}
