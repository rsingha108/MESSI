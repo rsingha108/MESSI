{
 "cells": [
  {
   "cell_type": "code",
   "execution_count": 1,
   "metadata": {},
   "outputs": [
    {
     "name": "stdout",
     "output_type": "stream",
     "text": [
      "2\n"
     ]
    }
   ],
   "source": [
    "1234\n",
    "\n",
    "l = [12, 13, 14, \n",
    "     21, 23, 24, \n",
    "     31, 32, 34, \n",
    "     41, 42, 43]\n",
    "\n",
    "1213142324341"
   ]
  },
  {
   "cell_type": "code",
   "execution_count": null,
   "metadata": {},
   "outputs": [],
   "source": [
    "123\n",
    "\n",
    "l = [12, 13,\n",
    "     21, 23,\n",
    "     31, 32]\n",
    "\n",
    "1213231"
   ]
  },
  {
   "cell_type": "code",
   "execution_count": 3,
   "metadata": {},
   "outputs": [
    {
     "data": {
      "text/plain": [
       "'1213142324341'"
      ]
     },
     "execution_count": 3,
     "metadata": {},
     "output_type": "execute_result"
    }
   ],
   "source": [
    "def opt_seq(n):\n",
    "    s = \"\"\n",
    "    for i in range(1, n):\n",
    "        for j in range(i+1, n+1):\n",
    "            s += str(i) + str(j)\n",
    "    return s+str(1)\n",
    "\n",
    "opt_seq(4)"
   ]
  },
  {
   "cell_type": "code",
   "execution_count": null,
   "metadata": {},
   "outputs": [],
   "source": []
  }
 ],
 "metadata": {
  "kernelspec": {
   "display_name": "Python 3",
   "language": "python",
   "name": "python3"
  },
  "language_info": {
   "codemirror_mode": {
    "name": "ipython",
    "version": 3
   },
   "file_extension": ".py",
   "mimetype": "text/x-python",
   "name": "python",
   "nbconvert_exporter": "python",
   "pygments_lexer": "ipython3",
   "version": "3.8.10"
  },
  "orig_nbformat": 4
 },
 "nbformat": 4,
 "nbformat_minor": 2
}
