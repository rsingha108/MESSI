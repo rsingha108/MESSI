{
 "cells": [
  {
   "cell_type": "code",
   "execution_count": 14,
   "metadata": {},
   "outputs": [
    {
     "name": "stdout",
     "output_type": "stream",
     "text": [
      "['Origin: i', 'Med: 50', 'Communities: 1:0, 22221:1']\n",
      "50\n",
      "1:0 22221:1\n"
     ]
    }
   ],
   "source": [
    "with open(\"out.txt\",\"r\") as f:\n",
    "\t\tlines = f.readlines()\n",
    "\n",
    "sp = lines[1].split(\"[{\")[1].split(\"}]\")[0].split(\"} {\")\n",
    "\n",
    "print(sp)\n",
    "\n",
    "for att in sp:\n",
    "\tif att.startswith(\"Med\"):\n",
    "\t\tmed = att[5:]\n",
    "\t\tprint(med)\n",
    "\tif att.startswith(\"Communities\"):\n",
    "\t\tcomm = att[13:].replace(\",\",\"\")\n",
    "\t\tprint(comm)"
   ]
  },
  {
   "cell_type": "code",
   "execution_count": 16,
   "metadata": {},
   "outputs": [
    {
     "data": {
      "text/plain": [
       "'2 1'"
      ]
     },
     "execution_count": 16,
     "metadata": {},
     "output_type": "execute_result"
    }
   ],
   "source": [
    "asp = []\n",
    "for x in lines[1].split()[3:]:\n",
    "    if ':' not in x:\n",
    "        asp.append(x)\n",
    "    else:\n",
    "        break\n",
    "    \n",
    "asp_str = \" \".join(asp)\n",
    "asp_str"
   ]
  },
  {
   "cell_type": "code",
   "execution_count": null,
   "metadata": {},
   "outputs": [],
   "source": []
  }
 ],
 "metadata": {
  "kernelspec": {
   "display_name": "Python 3",
   "language": "python",
   "name": "python3"
  },
  "language_info": {
   "codemirror_mode": {
    "name": "ipython",
    "version": 3
   },
   "file_extension": ".py",
   "mimetype": "text/x-python",
   "name": "python",
   "nbconvert_exporter": "python",
   "pygments_lexer": "ipython3",
   "version": "3.8.10"
  },
  "orig_nbformat": 4
 },
 "nbformat": 4,
 "nbformat_minor": 2
}
