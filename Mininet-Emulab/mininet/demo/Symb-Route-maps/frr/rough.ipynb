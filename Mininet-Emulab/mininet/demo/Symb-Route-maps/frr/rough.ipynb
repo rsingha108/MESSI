{
 "cells": [
  {
   "cell_type": "code",
   "execution_count": 1,
   "metadata": {},
   "outputs": [],
   "source": [
    "with open(\"out.txt\",\"r\") as f:\n",
    "    lines = f.readlines()"
   ]
  },
  {
   "cell_type": "code",
   "execution_count": 6,
   "metadata": {},
   "outputs": [
    {
     "name": "stdout",
     "output_type": "stream",
     "text": [
      "138\n",
      "8\n",
      "11:33 445:6\n",
      "3 5\n",
      "12.3.4.5\n"
     ]
    }
   ],
   "source": [
    "if len(lines) > 1:\n",
    "    for line in lines:\n",
    "        if \"localpref\" in line:\n",
    "            LogLP = line.split('localpref ')[1].split(',')[0] ## LogX = updated value of attribute X from FRR\n",
    "            print(LogLP)\n",
    "        if \"metric\" in line:\n",
    "            LogMED = line.split('metric ')[1].split(',')[0]\n",
    "            print(LogMED)\n",
    "        if \"Community\" in line:\n",
    "            LogCom = line.split('Community: ')[1][:-1]\n",
    "            print(LogCom)\n",
    "    LogAS = ' '.join(lines[3].split())\n",
    "    print(LogAS)\n",
    "    LogNH = lines[4].split()[0]\n",
    "    print(LogNH)"
   ]
  },
  {
   "cell_type": "code",
   "execution_count": null,
   "metadata": {},
   "outputs": [],
   "source": []
  }
 ],
 "metadata": {
  "kernelspec": {
   "display_name": "Python 3",
   "language": "python",
   "name": "python3"
  },
  "language_info": {
   "codemirror_mode": {
    "name": "ipython",
    "version": 3
   },
   "file_extension": ".py",
   "mimetype": "text/x-python",
   "name": "python",
   "nbconvert_exporter": "python",
   "pygments_lexer": "ipython3",
   "version": "3.8.10"
  },
  "orig_nbformat": 4
 },
 "nbformat": 4,
 "nbformat_minor": 2
}
