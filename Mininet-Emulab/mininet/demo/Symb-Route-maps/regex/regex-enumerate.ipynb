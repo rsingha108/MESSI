{
 "cells": [
  {
   "cell_type": "code",
   "execution_count": 39,
   "metadata": {},
   "outputs": [],
   "source": [
    "import itertools\n",
    "\n",
    "alphabet = ['(', ')', 'a', 'b', '*', '|']\n",
    "\n",
    "## enumerate all valid regexes\n",
    "def enumerate_regexes(n):\n",
    "    # return [''.join(p) for p in itertools.product(alphabet, repeat=n)]\n",
    "    # if n == 0:\n",
    "    #     return []\n",
    "    if n == 1:\n",
    "        return alphabet\n",
    "    else:\n",
    "        return [a+b for a in alphabet for b in enumerate_regexes(n-1)]\n",
    "\n",
    "# (enumerate_regexes(3))\n"
   ]
  },
  {
   "cell_type": "code",
   "execution_count": 37,
   "metadata": {},
   "outputs": [
    {
     "name": "stdout",
     "output_type": "stream",
     "text": [
      "2 10 122 15164\n"
     ]
    }
   ],
   "source": [
    "\n",
    "\n",
    "alphabet = ['(', ')', 'a', 'b', '*', '|']\n",
    "\n",
    "def bases(): ## return a list of base chars \n",
    "    return ['a', 'b']\n",
    "\n",
    "def rgx(r1): # r1 is a list of regexes. Grows by (4x + 2x^2)\n",
    "    \"\"\"\n",
    "    takes a list of regexes :\n",
    "        for each regex 'r' generates all possible extensions\n",
    "        like : r, (r), r*, r|r, r|s, rs\n",
    "    \"\"\"\n",
    "    r2 = []\n",
    "    for i,r in enumerate(r1): ## let len(r1) = x\n",
    "        r2.append(f'{r}') ## x\n",
    "        #r2.append(f'({r})') ## x\n",
    "        #r2.append(f'{r}*') ## x\n",
    "        r2.append(f'({r})*') ## x\n",
    "        for s in (r1[i:]): \n",
    "            r2.append(f'({r})|({s})') ## x^2\n",
    "            r2.append(f'({r})({s})') ## x^2\n",
    "    return r2 ## total = 3x + 2x^2\n",
    "\n",
    "l0 = bases() ## all level 0 regexes. Length = 2, time taken = 0.0001s\n",
    "l1 = list(set(rgx(l0))) ## all level 1 regexes. Length = 16, time taken = 0.00013s\n",
    "l2 = list(set(rgx(l1))) ## all level 2 regexes. Length = 576, time taken = 0.0002s\n",
    "l3 = list(set(rgx(l2))) ## all level 3 regexes. Length = 665856, time taken = 0.086s\n",
    "\n",
    "print(len(l0), len(l1), len(l2), len(l3))\n"
   ]
  },
  {
   "cell_type": "code",
   "execution_count": 38,
   "metadata": {},
   "outputs": [
    {
     "data": {
      "text/plain": [
       "['(b)|(b)',\n",
       " '(a)(a)',\n",
       " 'a',\n",
       " '(a)|(b)',\n",
       " '(b)*',\n",
       " '(a)*',\n",
       " '(b)(b)',\n",
       " '(a)|(a)',\n",
       " 'b',\n",
       " '(a)(b)']"
      ]
     },
     "execution_count": 38,
     "metadata": {},
     "output_type": "execute_result"
    }
   ],
   "source": [
    "l1"
   ]
  },
  {
   "cell_type": "code",
   "execution_count": 36,
   "metadata": {},
   "outputs": [
    {
     "name": "stdout",
     "output_type": "stream",
     "text": [
      "a\n",
      "(a)(a)\n",
      "(a)((a)(a))\n",
      "(a)((a)(b))\n",
      "(a)(b)\n",
      "(a)((b)(b))\n",
      "(a)(a)\n",
      "((a)(a))((a)(a))\n",
      "((a)(a))((a)(b))\n",
      "((a)(a))(b)\n",
      "((a)(a))((b)(b))\n",
      "(a)(b)\n",
      "((a)(b))((a)(b))\n",
      "((a)(b))(b)\n",
      "((a)(b))((b)(b))\n",
      "b\n",
      "(b)(b)\n",
      "(b)((b)(b))\n",
      "(b)(b)\n",
      "((b)(b))((b)(b))\n",
      "20\n"
     ]
    }
   ],
   "source": [
    "count = 0\n",
    "for r in l2:\n",
    "   if r.count('*') == 0 and r.count('|') == 0:\n",
    "      print(r)\n",
    "      count += 1\n",
    "   \n",
    "      \n",
    "print(count)"
   ]
  },
  {
   "cell_type": "code",
   "execution_count": 26,
   "metadata": {},
   "outputs": [
    {
     "data": {
      "text/plain": [
       "True"
      ]
     },
     "execution_count": 26,
     "metadata": {},
     "output_type": "execute_result"
    }
   ],
   "source": []
  },
  {
   "cell_type": "code",
   "execution_count": null,
   "metadata": {},
   "outputs": [],
   "source": [
    "\n",
    "# l4 = rgx(l3) ## all level 4 regexes\n",
    "\n",
    "print(len(l0), len(l1), len(l2), len(l3))\n",
    "## Some Demonstration\n",
    "\n",
    "# Level 0\n",
    "assert 'a' in l0\n",
    "# Level 1\n",
    "#assert 'a*' in l1\n",
    "#assert '(a)' in l1\n",
    "assert 'a|b' in l1\n",
    "# Level 2\n",
    "assert '(a)*' in l2\n",
    "#assert '(a|b)' in l2\n",
    "#assert 'a*|b' in l2\n",
    "# Level 3\n",
    "assert '(a)*|b' in l3\n",
    "assert '(a|b)*' in l3\n",
    "#assert '(a*b)' in l3\n",
    "assert '(a*)*' in l3\n",
    "#assert '(a|b|a|b)' in l3\n",
    "#assert '(a*)b*' in l3\n",
    "assert '(a|b)*b' in l3\n",
    "assert '(a|b*)*' in l3\n",
    "assert '(ab*)*' in l3\n",
    "\n",
    "# Level 4 Causes Memory Error\n",
    "# number of regexes in level 4 = 886731088896\n",
    "# Est. Time taken to generate level 4 regexes = 1477h\n",
    "# Est. Memory required to generate level 4 regexes = 9.5 TB\n"
   ]
  },
  {
   "cell_type": "code",
   "execution_count": 2,
   "metadata": {},
   "outputs": [
    {
     "data": {
      "text/plain": [
       "10393071136"
      ]
     },
     "execution_count": 2,
     "metadata": {},
     "output_type": "execute_result"
    }
   ],
   "source": [
    "x = 72086\n",
    "4*x + 2*x**2"
   ]
  },
  {
   "cell_type": "code",
   "execution_count": 3,
   "metadata": {},
   "outputs": [
    {
     "data": {
      "text/plain": [
       "(120.14333333333333, 774.361328125)"
      ]
     },
     "execution_count": 3,
     "metadata": {},
     "output_type": "execute_result"
    }
   ],
   "source": [
    "6*x/3600, 11*x/1024"
   ]
  },
  {
   "cell_type": "code",
   "execution_count": 10,
   "metadata": {},
   "outputs": [
    {
     "name": "stderr",
     "output_type": "stream",
     "text": [
      "100%|██████████| 1000000/1000000 [00:06<00:00, 164141.62it/s]\n"
     ]
    }
   ],
   "source": [
    "## size of txt file with 1M 10 char words = 6s, 11MB\n",
    "import random\n",
    "import string\n",
    "from tqdm import tqdm\n",
    "\n",
    "with open('words.txt','w') as f:\n",
    "    for i in tqdm(range(1000000)):\n",
    "        s = ''.join(random.choices(string.ascii_lowercase, k=10))+'\\n'\n",
    "        f.write(s)"
   ]
  },
  {
   "cell_type": "code",
   "execution_count": 14,
   "metadata": {},
   "outputs": [],
   "source": [
    "def bases(): ## return a list of base chars \n",
    "    return ['a', 'b']\n",
    "\n",
    "def rgx(r1): # r1 is a list of regexes\n",
    "    \"\"\"\n",
    "    takes a list of regexes :\n",
    "        for each regex 'r' generates all possible extensions\n",
    "        like : r, (r), r*, r|r, r|s, rs\n",
    "    \"\"\"\n",
    "    r2 = []\n",
    "    for r in r1:\n",
    "        r2.append(f'{r}')\n",
    "        r2.append(f'({r})')\n",
    "        r2.append(f'{r}*')\n",
    "        for s in r1:\n",
    "            r2.append(f'{r}|{s}')\n",
    "            r2.append(f'{r}{s}')\n",
    "    return r2"
   ]
  },
  {
   "cell_type": "code",
   "execution_count": 18,
   "metadata": {},
   "outputs": [
    {
     "name": "stdout",
     "output_type": "stream",
     "text": [
      "--- 0.08600974082946777 seconds ---\n"
     ]
    }
   ],
   "source": [
    "import time\n",
    "start_time = time.time()\n",
    "l1 = rgx(rgx(rgx(bases())))\n",
    "print(\"--- %s seconds ---\" % (time.time() - start_time))"
   ]
  },
  {
   "cell_type": "code",
   "execution_count": null,
   "metadata": {},
   "outputs": [],
   "source": []
  }
 ],
 "metadata": {
  "kernelspec": {
   "display_name": "Python 3",
   "language": "python",
   "name": "python3"
  },
  "language_info": {
   "codemirror_mode": {
    "name": "ipython",
    "version": 3
   },
   "file_extension": ".py",
   "mimetype": "text/x-python",
   "name": "python",
   "nbconvert_exporter": "python",
   "pygments_lexer": "ipython3",
   "version": "3.8.10"
  },
  "orig_nbformat": 4
 },
 "nbformat": 4,
 "nbformat_minor": 2
}
