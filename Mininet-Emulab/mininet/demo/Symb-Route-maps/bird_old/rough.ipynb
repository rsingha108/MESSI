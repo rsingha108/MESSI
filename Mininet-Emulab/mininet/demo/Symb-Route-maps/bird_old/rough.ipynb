{
 "cells": [
  {
   "cell_type": "code",
   "execution_count": 5,
   "metadata": {},
   "outputs": [
    {
     "data": {
      "text/plain": [
       "[['0:1', '0:2'], ['0:1', '11:1'], ['0:1', '12:1']]"
      ]
     },
     "execution_count": 5,
     "metadata": {},
     "output_type": "execute_result"
    }
   ],
   "source": [
    "s = \"[[0:1,0:2],[0:1,11:1],[0:1,12:1]]\"\n",
    "\n",
    "# s1 = s[2:-2].split('],[')\n",
    "\n",
    "# s2 = [i.split(',') for i in s1]\n",
    "\n",
    "[i.split(',') for i in s[2:-2].split('],[')]"
   ]
  },
  {
   "cell_type": "code",
   "execution_count": null,
   "metadata": {},
   "outputs": [],
   "source": [
    "# if ( ((net ~ [100.10.0.0/16{26,16}]) || (net ~ [99.164.101.4/3{8,32}]) || (net ~ [99.192.8.65/0{15,26}])) && (bgp_local_pref = 231) && (bgp_med = 34) && ((((0,1) ~ bgp_community) && ((0,2) ~ bgp_community)) || (((0,1) ~ bgp_community) && ((11,1) ~ bgp_community)) || (((0,1) ~ bgp_community) && ((12,1) ~ bgp_community))) && ((bgp_as_path ~ [= 11 =]) || (bgp_as_path ~ [= 100 =]) || (bgp_as_path ~ [= 1011 =])) ) then {}"
   ]
  },
  {
   "cell_type": "code",
   "execution_count": 9,
   "metadata": {},
   "outputs": [
    {
     "data": {
      "text/plain": [
       "'200.0.0.0/10'"
      ]
     },
     "execution_count": 9,
     "metadata": {},
     "output_type": "execute_result"
    }
   ],
   "source": [
    "def pref_corrector(p):\n",
    "    ## convert to binary\n",
    "    p1 = p.split('/')[0]\n",
    "    p2 = p.split('/')[1]\n",
    "    p3 = [bin(int(i))[2:].zfill(8) for i in p1.split('.')]\n",
    "    p4 = ''.join(p3)\n",
    "    p5 = p4[:int(p2)] + '0'*(32-int(p2))\n",
    "    p6 = [p5[i:i+8] for i in range(0, len(p5), 8)]\n",
    "    p7 = '.'.join([str(int(i,2)) for i in p6])\n",
    "    return p7 + '/' + p2\n",
    "\n",
    "\n",
    "pref_corrector('200.3.4.5/10')"
   ]
  },
  {
   "cell_type": "code",
   "execution_count": 16,
   "metadata": {},
   "outputs": [
    {
     "data": {
      "text/plain": [
       "'0:1 12:1'"
      ]
     },
     "execution_count": 16,
     "metadata": {},
     "output_type": "execute_result"
    }
   ],
   "source": [
    "line = \"\tBGP.community: (0,1) (12,1)\\n\"\n",
    "line.strip().split(\":\")[-1].strip().replace(',',':').replace('(',\"\").replace(')',\"\")"
   ]
  },
  {
   "cell_type": "code",
   "execution_count": null,
   "metadata": {},
   "outputs": [],
   "source": []
  }
 ],
 "metadata": {
  "kernelspec": {
   "display_name": "Python 3",
   "language": "python",
   "name": "python3"
  },
  "language_info": {
   "codemirror_mode": {
    "name": "ipython",
    "version": 3
   },
   "file_extension": ".py",
   "mimetype": "text/x-python",
   "name": "python",
   "nbconvert_exporter": "python",
   "pygments_lexer": "ipython3",
   "version": "3.8.10"
  },
  "orig_nbformat": 4
 },
 "nbformat": 4,
 "nbformat_minor": 2
}
