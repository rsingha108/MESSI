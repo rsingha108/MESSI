{
 "cells": [
  {
   "cell_type": "code",
   "execution_count": 1,
   "metadata": {},
   "outputs": [],
   "source": [
    "line = \"2023/03/01 20:44:21 BGP: [T5AAP-5GA85] 7.0.0.3(Unknown) rcvd UPDATE w/ attr: nexthop 7.0.0.3, origin e, localpref 138, metric 8, community 2:3 no-export, path 3\""
   ]
  },
  {
   "cell_type": "code",
   "execution_count": 1,
   "metadata": {},
   "outputs": [],
   "source": [
    "import json"
   ]
  },
  {
   "cell_type": "code",
   "execution_count": 4,
   "metadata": {},
   "outputs": [
    {
     "name": "stdout",
     "output_type": "stream",
     "text": [
      "63\n",
      "{'Prefix': 'None', 'LE': 'None', 'GE': 'None', 'PrefixPD': 'None', 'RmapPD': 'True', 'LP': 'None', 'MED': 'None', 'Community': 'None', 'Community-regex': 'None', 'Community-permit': 'None', 'ASPath': 'None', 'ASPath-regex': 'None', 'ASPath-permit': 'None', 'Set': 'Some', 'SetLP': 'None', 'SetMED': 'None', 'SetCommunity': '0:0', 'DeleteCommunity': 'None', 'ASPathPrepend': '18580', 'ASPathExclude': 'None', 'NextHopIP': 'None', 'NextHopPeer': 'False', 'NextHopUnchanged': 'False'}\n",
      "{'Prefix': '99.190.9.0/15', 'LP': '530', 'MED': '48', 'Community': '11:2222 11:11001', 'ASPath': '0 5', 'NextHop': '99.191.0.3'}\n",
      "{'Tag': 'C3A3', 'Allowed': 'True', 'Prefix': '99.190.9.0/15', 'LP': '530', 'MED': '48', 'Community': '11:2222 11:11001 0:0', 'ASPath': '18580 0 5', 'NextHop': '99.191.0.3'}\n",
      "158\n",
      "{'Prefix': 'None', 'LE': 'None', 'GE': 'None', 'PrefixPD': 'None', 'RmapPD': 'True', 'LP': 'None', 'MED': 'None', 'Community': 'None', 'Community-regex': 'None', 'Community-permit': 'None', 'ASPath': 'None', 'ASPath-regex': 'None', 'ASPath-permit': 'None', 'Set': 'Some', 'SetLP': 'None', 'SetMED': 'None', 'SetCommunity': '0:0', 'DeleteCommunity': 'None', 'ASPathPrepend': '35231', 'ASPathExclude': 'None', 'NextHopIP': '0.0.0.0', 'NextHopPeer': 'False', 'NextHopUnchanged': 'False'}\n",
      "{'Prefix': '100.0.1.64/0', 'LP': '264', 'MED': '72', 'Community': '9753:6553 1002:5', 'ASPath': '0 6', 'NextHop': '100.0.16.64'}\n",
      "{'Tag': 'C3A3H3', 'Allowed': 'True', 'Prefix': '100.0.1.64/0', 'LP': '264', 'MED': '72', 'Community': '9753:6553 1002:5 0:0', 'ASPath': '35231 0 6', 'NextHop': '0.0.0.0'}\n",
      "164\n",
      "{'Prefix': 'None', 'LE': 'None', 'GE': 'None', 'PrefixPD': 'None', 'RmapPD': 'True', 'LP': 'None', 'MED': 'None', 'Community': 'None', 'Community-regex': 'None', 'Community-permit': 'None', 'ASPath': 'None', 'ASPath-regex': 'None', 'ASPath-permit': 'None', 'Set': 'Some', 'SetLP': 'None', 'SetMED': 'None', 'SetCommunity': '0:0', 'DeleteCommunity': 'None', 'ASPathPrepend': '47454', 'ASPathExclude': 'None', 'NextHopIP': 'None', 'NextHopPeer': 'False', 'NextHopUnchanged': 'True'}\n",
      "{'Prefix': '99.159.129.0/0', 'LP': '134', 'MED': '40', 'Community': '2:21 11:111', 'ASPath': '0', 'NextHop': '100.0.0.0'}\n",
      "{'Tag': 'C3A3H5', 'Allowed': 'True', 'Prefix': '99.159.129.0/0', 'LP': '134', 'MED': '40', 'Community': '2:21 11:111 0:0', 'ASPath': '47454 0', 'NextHop': '100.0.0.0'}\n",
      "170\n",
      "{'Prefix': 'None', 'LE': 'None', 'GE': 'None', 'PrefixPD': 'None', 'RmapPD': 'True', 'LP': 'None', 'MED': 'None', 'Community': 'None', 'Community-regex': 'None', 'Community-permit': 'None', 'ASPath': 'None', 'ASPath-regex': 'None', 'ASPath-permit': 'None', 'Set': 'Some', 'SetLP': 'None', 'SetMED': 'None', 'SetCommunity': 'None', 'DeleteCommunity': '[3-4][3-4]?:[3][3]?', 'ASPathPrepend': '18580', 'ASPathExclude': 'None', 'NextHopIP': 'None', 'NextHopPeer': 'False', 'NextHopUnchanged': 'False'}\n",
      "{'Prefix': '99.160.1.3/9', 'LP': '517', 'MED': '1', 'Community': '65224:25895 8410:2052', 'ASPath': '0 4', 'NextHop': '100.0.1.64'}\n",
      "{'Tag': 'C4A3', 'Allowed': 'True', 'Prefix': '99.160.1.3/9', 'LP': '517', 'MED': '1', 'Community': '65224:25895 8410:2052', 'ASPath': '18580 0 4', 'NextHop': '100.0.1.64'}\n",
      "171\n",
      "{'Prefix': 'None', 'LE': 'None', 'GE': 'None', 'PrefixPD': 'None', 'RmapPD': 'True', 'LP': 'None', 'MED': 'None', 'Community': 'None', 'Community-regex': 'None', 'Community-permit': 'None', 'ASPath': 'None', 'ASPath-regex': 'None', 'ASPath-permit': 'None', 'Set': 'Some', 'SetLP': '802', 'SetMED': 'None', 'SetCommunity': '0:0', 'DeleteCommunity': 'None', 'ASPathPrepend': '47454', 'ASPathExclude': 'None', 'NextHopIP': 'None', 'NextHopPeer': 'False', 'NextHopUnchanged': 'False'}\n",
      "{'Prefix': '100.0.1.16/0', 'LP': '322', 'MED': '34', 'Community': '8790:6 6591:91', 'ASPath': '22', 'NextHop': '100.0.2.3'}\n",
      "{'Tag': 'L3M3C3A3', 'Allowed': 'True', 'Prefix': '100.0.1.16/0', 'LP': '802', 'MED': '34', 'Community': '8790:6 6591:91 0:0', 'ASPath': '47454 22', 'NextHop': '100.0.2.3'}\n",
      "172\n",
      "{'Prefix': 'None', 'LE': 'None', 'GE': 'None', 'PrefixPD': 'None', 'RmapPD': 'True', 'LP': 'None', 'MED': 'None', 'Community': 'None', 'Community-regex': 'None', 'Community-permit': 'None', 'ASPath': 'None', 'ASPath-regex': 'None', 'ASPath-permit': 'None', 'Set': 'Some', 'SetLP': 'None', 'SetMED': '0', 'SetCommunity': '0:0', 'DeleteCommunity': 'None', 'ASPathPrepend': '15597', 'ASPathExclude': 'None', 'NextHopIP': 'None', 'NextHopPeer': 'False', 'NextHopUnchanged': 'False'}\n",
      "{'Prefix': '100.0.2.3/0', 'LP': '162', 'MED': '1', 'Community': '8790:6 6591:91', 'ASPath': '11', 'NextHop': '99.192.1.16'}\n",
      "{'Tag': 'C3A3', 'Allowed': 'True', 'Prefix': '100.0.2.3/0', 'LP': '162', 'MED': '0', 'Community': '8790:6 6591:91 0:0', 'ASPath': '15597 11', 'NextHop': '99.192.1.16'}\n",
      "191\n",
      "{'Prefix': 'None', 'LE': 'None', 'GE': 'None', 'PrefixPD': 'None', 'RmapPD': 'True', 'LP': '289', 'MED': 'None', 'Community': 'None', 'Community-regex': 'None', 'Community-permit': 'None', 'ASPath': 'None', 'ASPath-regex': 'None', 'ASPath-permit': 'None', 'Set': 'Some', 'SetLP': 'None', 'SetMED': '0', 'SetCommunity': 'None', 'DeleteCommunity': 'None', 'ASPathPrepend': '37650', 'ASPathExclude': 'None', 'NextHopIP': 'None', 'NextHopPeer': 'False', 'NextHopUnchanged': 'False'}\n",
      "{'Prefix': '100.0.1.64/26', 'LP': '289', 'MED': '36', 'Community': '1:1 2:1', 'ASPath': '0', 'NextHop': '100.0.1.3'}\n",
      "{'Tag': 'L1A3', 'Allowed': 'True', 'Prefix': '100.0.1.64/26', 'LP': '289', 'MED': '0', 'Community': '1:1 2:1', 'ASPath': '37650 0', 'NextHop': '100.0.1.3'}\n",
      "199\n",
      "{'Prefix': 'None', 'LE': 'None', 'GE': 'None', 'PrefixPD': 'None', 'RmapPD': 'True', 'LP': 'None', 'MED': '4', 'Community': 'None', 'Community-regex': 'None', 'Community-permit': 'None', 'ASPath': 'None', 'ASPath-regex': 'None', 'ASPath-permit': 'None', 'Set': 'Some', 'SetLP': 'None', 'SetMED': 'None', 'SetCommunity': '0:0', 'DeleteCommunity': 'None', 'ASPathPrepend': '14526', 'ASPathExclude': 'None', 'NextHopIP': 'None', 'NextHopPeer': 'False', 'NextHopUnchanged': 'False'}\n",
      "{'Prefix': '100.0.0.0/1', 'LP': '545', 'MED': '4', 'Community': '2:21 11:111', 'ASPath': '0 5', 'NextHop': '99.190.1.3'}\n",
      "{'Tag': 'M1C3A3', 'Allowed': 'True', 'Prefix': '100.0.0.0/1', 'LP': '545', 'MED': '4', 'Community': '2:21 11:111 0:0', 'ASPath': '14526 0 5', 'NextHop': '99.190.1.3'}\n",
      "399\n",
      "{'Prefix': 'None', 'LE': 'None', 'GE': 'None', 'PrefixPD': 'None', 'RmapPD': 'True', 'LP': 'None', 'MED': 'None', 'Community': 'Some', 'Community-regex': '^[1-2][1-2]?:[20][20]+ [0-1][0-1]?:[01]+$', 'Community-permit': 'True', 'ASPath': 'None', 'ASPath-regex': 'None', 'ASPath-permit': 'None', 'Set': 'Some', 'SetLP': '160', 'SetMED': 'None', 'SetCommunity': 'None', 'DeleteCommunity': 'None', 'ASPathPrepend': '10181', 'ASPathExclude': 'None', 'NextHopIP': 'None', 'NextHopPeer': 'False', 'NextHopUnchanged': 'False'}\n",
      "{'Prefix': '100.1.0.128/16', 'LP': '512', 'MED': '34', 'Community': '11:2222 11:11001', 'ASPath': '11', 'NextHop': '100.0.1.4'}\n",
      "{'Tag': 'C1L3M3A3', 'Allowed': 'True', 'Prefix': '100.1.0.128/16', 'LP': '160', 'MED': '34', 'Community': '11:2222 11:11001', 'ASPath': '10181 11', 'NextHop': '100.0.1.4'}\n",
      "406\n",
      "{'Prefix': 'None', 'LE': 'None', 'GE': 'None', 'PrefixPD': 'None', 'RmapPD': 'True', 'LP': 'None', 'MED': 'None', 'Community': 'None', 'Community-regex': 'None', 'Community-permit': 'None', 'ASPath': 'None', 'ASPath-regex': 'None', 'ASPath-permit': 'None', 'Set': 'Some', 'SetLP': 'None', 'SetMED': '0', 'SetCommunity': 'None', 'DeleteCommunity': 'None', 'ASPathPrepend': '10181', 'ASPathExclude': 'None', 'NextHopIP': '0.0.0.0', 'NextHopPeer': 'False', 'NextHopUnchanged': 'False'}\n",
      "{'Prefix': '99.192.32.0/3', 'LP': '262', 'MED': '48', 'Community': '11:22 11:100', 'ASPath': '0', 'NextHop': '100.0.1.64'}\n",
      "{'Tag': 'A3H3', 'Allowed': 'True', 'Prefix': '99.192.32.0/3', 'LP': '262', 'MED': '0', 'Community': '11:22 11:100', 'ASPath': '10181 0', 'NextHop': '0.0.0.0'}\n",
      "407\n",
      "{'Prefix': 'None', 'LE': 'None', 'GE': 'None', 'PrefixPD': 'None', 'RmapPD': 'True', 'LP': 'None', 'MED': 'None', 'Community': 'None', 'Community-regex': 'None', 'Community-permit': 'None', 'ASPath': 'None', 'ASPath-regex': 'None', 'ASPath-permit': 'None', 'Set': 'Some', 'SetLP': '801', 'SetMED': 'None', 'SetCommunity': '0:0', 'DeleteCommunity': 'None', 'ASPathPrepend': '47454', 'ASPathExclude': 'None', 'NextHopIP': '0.0.0.0', 'NextHopPeer': 'False', 'NextHopUnchanged': 'False'}\n",
      "{'Prefix': '100.0.4.0/0', 'LP': '193', 'MED': '129', 'Community': '8790:6 6591:91', 'ASPath': '0 4', 'NextHop': '100.0.1.64'}\n",
      "{'Tag': 'L3M3C3A3H3', 'Allowed': 'True', 'Prefix': '100.0.4.0/0', 'LP': '801', 'MED': '129', 'Community': '8790:6 6591:91 0:0', 'ASPath': '47454 0 4', 'NextHop': '0.0.0.0'}\n",
      "408\n",
      "{'Prefix': 'None', 'LE': 'None', 'GE': 'None', 'PrefixPD': 'None', 'RmapPD': 'True', 'LP': 'None', 'MED': 'None', 'Community': 'None', 'Community-regex': 'None', 'Community-permit': 'None', 'ASPath': 'None', 'ASPath-regex': 'None', 'ASPath-permit': 'None', 'Set': 'Some', 'SetLP': 'None', 'SetMED': '0', 'SetCommunity': '0:0', 'DeleteCommunity': 'None', 'ASPathPrepend': '44210', 'ASPathExclude': 'None', 'NextHopIP': '0.0.0.0', 'NextHopPeer': 'False', 'NextHopUnchanged': 'False'}\n",
      "{'Prefix': '100.0.1.128/8', 'LP': '578', 'MED': '48', 'Community': '11:22 11:11010', 'ASPath': '10', 'NextHop': '100.0.1.3'}\n",
      "{'Tag': 'C3A3H3', 'Allowed': 'True', 'Prefix': '100.0.1.128/8', 'LP': '578', 'MED': '0', 'Community': '11:22 11:11010 0:0', 'ASPath': '44210 10', 'NextHop': '0.0.0.0'}\n",
      "419\n",
      "{'Prefix': 'None', 'LE': 'None', 'GE': 'None', 'PrefixPD': 'None', 'RmapPD': 'True', 'LP': 'None', 'MED': 'None', 'Community': 'None', 'Community-regex': 'None', 'Community-permit': 'None', 'ASPath': 'None', 'ASPath-regex': 'None', 'ASPath-permit': 'None', 'Set': 'Some', 'SetLP': 'None', 'SetMED': '0', 'SetCommunity': 'None', 'DeleteCommunity': 'None', 'ASPathPrepend': '14605', 'ASPathExclude': 'None', 'NextHopIP': 'None', 'NextHopPeer': 'False', 'NextHopUnchanged': 'True'}\n",
      "{'Prefix': '100.0.1.3/30', 'LP': '134', 'MED': '33', 'Community': '65535:6553 1025:680', 'ASPath': '1', 'NextHop': '100.0.2.3'}\n",
      "{'Tag': 'A3H5', 'Allowed': 'True', 'Prefix': '100.0.1.3/30', 'LP': '134', 'MED': '0', 'Community': '65535:6553 1025:680', 'ASPath': '14605 1', 'NextHop': '100.0.2.3'}\n",
      "420\n",
      "{'Prefix': 'None', 'LE': 'None', 'GE': 'None', 'PrefixPD': 'None', 'RmapPD': 'True', 'LP': 'None', 'MED': 'None', 'Community': 'None', 'Community-regex': 'None', 'Community-permit': 'None', 'ASPath': 'None', 'ASPath-regex': 'None', 'ASPath-permit': 'None', 'Set': 'Some', 'SetLP': '802', 'SetMED': 'None', 'SetCommunity': '0:0', 'DeleteCommunity': 'None', 'ASPathPrepend': '44210', 'ASPathExclude': 'None', 'NextHopIP': 'None', 'NextHopPeer': 'False', 'NextHopUnchanged': 'True'}\n",
      "{'Prefix': '100.0.1.128/0', 'LP': '257', 'MED': '128', 'Community': '11:22 11:100', 'ASPath': '0 5', 'NextHop': '100.0.1.64'}\n",
      "{'Tag': 'L3M3C3A3H5', 'Allowed': 'True', 'Prefix': '100.0.1.128/0', 'LP': '802', 'MED': '128', 'Community': '11:22 11:100 0:0', 'ASPath': '44210 0 5', 'NextHop': '100.0.1.64'}\n",
      "421\n",
      "{'Prefix': 'None', 'LE': 'None', 'GE': 'None', 'PrefixPD': 'None', 'RmapPD': 'True', 'LP': 'None', 'MED': 'None', 'Community': 'None', 'Community-regex': 'None', 'Community-permit': 'None', 'ASPath': 'None', 'ASPath-regex': 'None', 'ASPath-permit': 'None', 'Set': 'Some', 'SetLP': 'None', 'SetMED': '0', 'SetCommunity': '0:0', 'DeleteCommunity': 'None', 'ASPathPrepend': '37650', 'ASPathExclude': 'None', 'NextHopIP': 'None', 'NextHopPeer': 'False', 'NextHopUnchanged': 'True'}\n",
      "{'Prefix': '100.0.1.3/0', 'LP': '129', 'MED': '65', 'Community': '1:1 1:12', 'ASPath': '2', 'NextHop': '100.0.1.3'}\n",
      "{'Tag': 'C3A3H5', 'Allowed': 'True', 'Prefix': '100.0.1.3/0', 'LP': '129', 'MED': '0', 'Community': '1:1 1:12 0:0', 'ASPath': '37650 2', 'NextHop': '100.0.1.3'}\n",
      "433\n",
      "{'Prefix': 'None', 'LE': 'None', 'GE': 'None', 'PrefixPD': 'None', 'RmapPD': 'True', 'LP': 'None', 'MED': 'None', 'Community': 'None', 'Community-regex': 'None', 'Community-permit': 'None', 'ASPath': 'None', 'ASPath-regex': 'None', 'ASPath-permit': 'None', 'Set': 'Some', 'SetLP': '838', 'SetMED': 'None', 'SetCommunity': 'None', 'DeleteCommunity': 'None', 'ASPathPrepend': '14605', 'ASPathExclude': 'None', 'NextHopIP': 'None', 'NextHopPeer': 'False', 'NextHopUnchanged': 'False'}\n",
      "{'Prefix': '100.1.0.3/0', 'LP': '261', 'MED': '34', 'Community': '25494:55293 10108:119', 'ASPath': '21', 'NextHop': '99.192.16.128'}\n",
      "{'Tag': 'L3M3A3', 'Allowed': 'True', 'Prefix': '100.1.0.3/0', 'LP': '838', 'MED': '34', 'Community': '25494:55293 10108:119', 'ASPath': '14605 21', 'NextHop': '99.192.16.128'}\n",
      "434\n",
      "{'Prefix': 'None', 'LE': 'None', 'GE': 'None', 'PrefixPD': 'None', 'RmapPD': 'True', 'LP': 'None', 'MED': 'None', 'Community': 'None', 'Community-regex': 'None', 'Community-permit': 'None', 'ASPath': 'None', 'ASPath-regex': 'None', 'ASPath-permit': 'None', 'Set': 'Some', 'SetLP': '642', 'SetMED': 'None', 'SetCommunity': 'None', 'DeleteCommunity': '[1-2][1-2]?:[1]+', 'ASPathPrepend': '12936', 'ASPathExclude': 'None', 'NextHopIP': 'None', 'NextHopPeer': 'False', 'NextHopUnchanged': 'False'}\n",
      "{'Prefix': '99.191.0.0/0', 'LP': '577', 'MED': '130', 'Community': '25494:55293 10108:119', 'ASPath': '0 4', 'NextHop': '100.0.2.0'}\n",
      "{'Tag': 'L3M3C4A3', 'Allowed': 'True', 'Prefix': '99.191.0.0/0', 'LP': '642', 'MED': '130', 'Community': '25494:55293 10108:119', 'ASPath': '12936 0 4', 'NextHop': '100.0.2.0'}\n",
      "435\n",
      "{'Prefix': 'None', 'LE': 'None', 'GE': 'None', 'PrefixPD': 'None', 'RmapPD': 'True', 'LP': 'None', 'MED': 'None', 'Community': 'None', 'Community-regex': 'None', 'Community-permit': 'None', 'ASPath': 'None', 'ASPath-regex': 'None', 'ASPath-permit': 'None', 'Set': 'Some', 'SetLP': 'None', 'SetMED': 'None', 'SetCommunity': 'None', 'DeleteCommunity': '[1-2][1-2]?:[1]+', 'ASPathPrepend': '10181', 'ASPathExclude': 'None', 'NextHopIP': 'None', 'NextHopPeer': 'False', 'NextHopUnchanged': 'False'}\n",
      "{'Prefix': '100.0.1.3/0', 'LP': '194', 'MED': '48', 'Community': '2:11 12:1', 'ASPath': '0 5', 'NextHop': '100.0.1.3'}\n",
      "{'Tag': 'C4A3', 'Allowed': 'True', 'Prefix': '100.0.1.3/0', 'LP': '194', 'MED': '48', 'Community': '2:11', 'ASPath': '10181 0 5', 'NextHop': '100.0.1.3'}\n",
      "436\n",
      "{'Prefix': 'None', 'LE': 'None', 'GE': 'None', 'PrefixPD': 'None', 'RmapPD': 'True', 'LP': 'None', 'MED': 'None', 'Community': 'None', 'Community-regex': 'None', 'Community-permit': 'None', 'ASPath': 'None', 'ASPath-regex': 'None', 'ASPath-permit': 'None', 'Set': 'Some', 'SetLP': 'None', 'SetMED': 'None', 'SetCommunity': 'None', 'DeleteCommunity': '[1-2][1-2]?:[1]+', 'ASPathPrepend': '18580', 'ASPathExclude': 'None', 'NextHopIP': 'None', 'NextHopPeer': 'False', 'NextHopUnchanged': 'False'}\n",
      "{'Prefix': '100.1.0.3/1', 'LP': '325', 'MED': '80', 'Community': '2:22 22:11', 'ASPath': '0 5', 'NextHop': '99.178.1.9'}\n",
      "{'Tag': 'C4A3', 'Allowed': 'True', 'Prefix': '100.1.0.3/1', 'LP': '325', 'MED': '80', 'Community': '2:22', 'ASPath': '18580 0 5', 'NextHop': '99.178.1.9'}\n",
      "437\n",
      "{'Prefix': 'None', 'LE': 'None', 'GE': 'None', 'PrefixPD': 'None', 'RmapPD': 'True', 'LP': 'None', 'MED': 'None', 'Community': 'None', 'Community-regex': 'None', 'Community-permit': 'None', 'ASPath': 'None', 'ASPath-regex': 'None', 'ASPath-permit': 'None', 'Set': 'Some', 'SetLP': 'None', 'SetMED': 'None', 'SetCommunity': 'None', 'DeleteCommunity': '[1-2][1-2]?:[1]+', 'ASPathPrepend': '12936', 'ASPathExclude': 'None', 'NextHopIP': 'None', 'NextHopPeer': 'False', 'NextHopUnchanged': 'False'}\n",
      "{'Prefix': '100.0.32.3/1', 'LP': '322', 'MED': '130', 'Community': '2:21 11:111', 'ASPath': '0', 'NextHop': '99.192.1.3'}\n",
      "{'Tag': 'C4A3', 'Allowed': 'True', 'Prefix': '100.0.32.3/1', 'LP': '322', 'MED': '130', 'Community': '2:21', 'ASPath': '12936 0', 'NextHop': '99.192.1.3'}\n",
      "438\n",
      "{'Prefix': 'None', 'LE': 'None', 'GE': 'None', 'PrefixPD': 'None', 'RmapPD': 'True', 'LP': 'None', 'MED': 'None', 'Community': 'None', 'Community-regex': 'None', 'Community-permit': 'None', 'ASPath': 'None', 'ASPath-regex': 'None', 'ASPath-permit': 'None', 'Set': 'Some', 'SetLP': 'None', 'SetMED': '0', 'SetCommunity': 'None', 'DeleteCommunity': '[1-2][1-2]?:[1]+', 'ASPathPrepend': '49034', 'ASPathExclude': 'None', 'NextHopIP': 'None', 'NextHopPeer': 'False', 'NextHopUnchanged': 'False'}\n",
      "{'Prefix': '100.0.16.3/0', 'LP': '162', 'MED': '36', 'Community': '6582:657 65510:10140', 'ASPath': '0 6', 'NextHop': '100.0.2.64'}\n",
      "{'Tag': 'C4A3', 'Allowed': 'True', 'Prefix': '100.0.16.3/0', 'LP': '162', 'MED': '0', 'Community': '6582:657 65510:10140', 'ASPath': '49034 0 6', 'NextHop': '100.0.2.64'}\n",
      "439\n",
      "{'Prefix': 'None', 'LE': 'None', 'GE': 'None', 'PrefixPD': 'None', 'RmapPD': 'True', 'LP': 'None', 'MED': 'None', 'Community': 'None', 'Community-regex': 'None', 'Community-permit': 'None', 'ASPath': 'None', 'ASPath-regex': 'None', 'ASPath-permit': 'None', 'Set': 'Some', 'SetLP': '162', 'SetMED': '0', 'SetCommunity': '0:0', 'DeleteCommunity': 'None', 'ASPathPrepend': '47454', 'ASPathExclude': 'None', 'NextHopIP': 'None', 'NextHopPeer': 'False', 'NextHopUnchanged': 'False'}\n",
      "{'Prefix': '100.0.1.64/1', 'LP': '290', 'MED': '33', 'Community': '8790:6 6591:91', 'ASPath': '0 5', 'NextHop': '100.0.1.3'}\n",
      "{'Tag': 'L3M3C3A3', 'Allowed': 'True', 'Prefix': '100.0.1.64/1', 'LP': '162', 'MED': '0', 'Community': '8790:6 6591:91 0:0', 'ASPath': '47454 0 5', 'NextHop': '100.0.1.3'}\n"
     ]
    }
   ],
   "source": [
    "for i in range(450):\n",
    "    with open(f'tests/{i}.json') as f:\n",
    "        test = json.load(f)\n",
    "    rmap, route, decision = test[0], test[1], test[2]\n",
    "    # if decision[\"Allowed\"] == \"True\" and rmap[\"DeleteCommunity\"] != \"None\":\n",
    "    if rmap[\"Set\"] != \"None\" and rmap[\"ASPathPrepend\"] != \"None\":\n",
    "        print(i)\n",
    "        print(rmap)\n",
    "        print(route)\n",
    "        print(decision)"
   ]
  },
  {
   "cell_type": "code",
   "execution_count": null,
   "metadata": {},
   "outputs": [],
   "source": []
  }
 ],
 "metadata": {
  "kernelspec": {
   "display_name": "Python 3",
   "language": "python",
   "name": "python3"
  },
  "language_info": {
   "codemirror_mode": {
    "name": "ipython",
    "version": 3
   },
   "file_extension": ".py",
   "mimetype": "text/x-python",
   "name": "python",
   "nbconvert_exporter": "python",
   "pygments_lexer": "ipython3",
   "version": "3.8.10"
  },
  "orig_nbformat": 4,
  "vscode": {
   "interpreter": {
    "hash": "e7370f93d1d0cde622a1f8e1c04877d8463912d04d973331ad4851f04de6915a"
   }
  }
 },
 "nbformat": 4,
 "nbformat_minor": 2
}
